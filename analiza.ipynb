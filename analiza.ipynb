{
 "cells": [
  {
   "cell_type": "code",
   "execution_count": 63,
   "id": "787f1d3b",
   "metadata": {},
   "outputs": [],
   "source": [
    "import pandas as pd\n",
    "disertacije = pd.read_csv(\"disertacije.csv\", delimiter=\"|\", index_col=\"ID\")"
   ]
  },
  {
   "cell_type": "code",
   "execution_count": 64,
   "id": "9f525b7d",
   "metadata": {},
   "outputs": [
    {
     "data": {
      "text/plain": [
       "Naslov                   3468\n",
       "Avtor                    3466\n",
       "Mentor                   3454\n",
       "Ključne besede           3372\n",
       "Leto                     3468\n",
       "Jezik                    3468\n",
       "Organizacija             3468\n",
       "Kraj                     1972\n",
       "Dolžina uvoda            3468\n",
       "Dolžina glavnega dela    3468\n",
       "Ogledi                   3468\n",
       "Prenosi                  3468\n",
       "dtype: int64"
      ]
     },
     "execution_count": 64,
     "metadata": {},
     "output_type": "execute_result"
    }
   ],
   "source": [
    "disertacije.count()"
   ]
  }
 ],
 "metadata": {
  "kernelspec": {
   "display_name": ".venv",
   "language": "python",
   "name": "python3"
  },
  "language_info": {
   "codemirror_mode": {
    "name": "ipython",
    "version": 3
   },
   "file_extension": ".py",
   "mimetype": "text/x-python",
   "name": "python",
   "nbconvert_exporter": "python",
   "pygments_lexer": "ipython3",
   "version": "3.13.0"
  }
 },
 "nbformat": 4,
 "nbformat_minor": 5
}
